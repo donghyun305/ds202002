{
 "cells": [
  {
   "cell_type": "markdown",
   "metadata": {},
   "source": [
    "# SQL에 table 생성하기"
   ]
  },
  {
   "cell_type": "markdown",
   "metadata": {},
   "source": [
    "import sqlite3\n",
    "\n",
    "con = sqlite3.connect('데이터베이스를 만들 파일 저장하는 곳')\n",
    "cursor = con.cursor()\n",
    "cursor.execute('CREATE TABLE Practice(country text, display int, indicator text)')\n",
    "\n",
    "data2 = []\n",
    "for i in range(data.shape[0]):\n",
    "    data1 = [country[i], int(display[i]), indicator[i]]\n",
    "    data2.append(data1)\n",
    "for row in data2:\n",
    "    cursor.execute(\"INSERT INTO Practice VALUES(?,?,?)\",(row[0], row[1], row[2]))\n",
    "con.commit()\n",
    "con.close()\n",
    "    "
   ]
  }
 ],
 "metadata": {
  "kernelspec": {
   "display_name": "Python 3",
   "language": "python",
   "name": "python3"
  },
  "language_info": {
   "codemirror_mode": {
    "name": "ipython",
    "version": 3
   },
   "file_extension": ".py",
   "mimetype": "text/x-python",
   "name": "python",
   "nbconvert_exporter": "python",
   "pygments_lexer": "ipython3",
   "version": "3.7.7"
  }
 },
 "nbformat": 4,
 "nbformat_minor": 4
}
